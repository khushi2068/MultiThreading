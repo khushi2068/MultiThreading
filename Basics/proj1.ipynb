{
 "cells": [
  {
   "cell_type": "markdown",
   "metadata": {},
   "source": [
    "## PROJECT - Creating Multiple Files Using Threading"
   ]
  },
  {
   "cell_type": "code",
   "execution_count": 2,
   "metadata": {},
   "outputs": [
    {
     "name": "stdout",
     "output_type": "stream",
     "text": [
      "e:\\Multi-Threading\n"
     ]
    }
   ],
   "source": [
    "import os\n",
    "print(os.getcwd())"
   ]
  },
  {
   "cell_type": "code",
   "execution_count": 13,
   "metadata": {},
   "outputs": [],
   "source": [
    "# Parameter Setting\n",
    "\n",
    "import random as r, string as s, shutil, os, time\n",
    "\n",
    "inputDirName = 'inputDirectory'\n",
    "totalFiles = 10\n",
    "fileSize = 10 \n",
    "\n",
    "try:\n",
    "    # Delete input directory and then create it\n",
    "    shutil.rmtree(\"./%s/\"%(inputDirName))\n",
    "    os.mkdir(inputDirName)\n",
    "except:\n",
    "    # Create the input directory\n",
    "    os.mkdir(inputDirName)"
   ]
  },
  {
   "cell_type": "code",
   "execution_count": 8,
   "metadata": {},
   "outputs": [],
   "source": [
    "# Function to create file\n",
    "\n",
    "def task(fileName):\n",
    "    iteration=512\n",
    "    fileName=\"./%s/%s\"%(inputDirName,fileName)\n",
    "    while True:\n",
    "        fp = open(fileName,\"a\")   # Opening file in append mode\n",
    "        for j in range(iteration):\n",
    "          for k in range(iteration):\n",
    "            string=\" \".join(r.sample(s.ascii_letters,50))\n",
    "            fp.write(string + \"\\n\" + string + \"\\n\" + string + \"\\n\" + string + \"\\n\" + string + \"\\n\")\n",
    "        fp.close()\n",
    "        if  os.path.getsize(fileName) >= fileSize:\n",
    "            break\n",
    "    return None\n"
   ]
  },
  {
   "cell_type": "code",
   "execution_count": 14,
   "metadata": {},
   "outputs": [
    {
     "name": "stdout",
     "output_type": "stream",
     "text": [
      "Program Started....\n",
      "Creating file test1.txt\n",
      "Creating file test2.txt\n",
      "Creating file test3.txt\n",
      "Creating file test4.txt\n",
      "Creating file test5.txt\n",
      "Creating file test6.txt\n",
      "Creating file test7.txt\n",
      "Creating file test8.txt\n",
      "Creating file test9.txt\n",
      "Creating file test10.txt\n",
      "    Thread still running (left 3)...\n",
      "    Thread still running (left 1)...\n",
      " All Thread ends\n",
      "Program Finished\n",
      "Total Time 73.324700 sec\n"
     ]
    }
   ],
   "source": [
    "# Main Program\n",
    "\n",
    "import threading\n",
    "\n",
    "startTime = time.time()\n",
    "\n",
    "numberOfThreads = 5\n",
    "\n",
    "activeThreads = threading.active_count()\n",
    "\n",
    "# Main Program - Run Multiple Threads\n",
    "print(\"Program Started....\")\n",
    "\n",
    "for i in range(totalFiles):\n",
    "    fileName = \"test%d.txt\"%(i+1)\n",
    "    cmd = fileName\n",
    "    t = threading.Thread(target=task , args=(cmd,))\n",
    "    t.start()\n",
    "\n",
    "    print (\"Creating file %s\"%(fileName))\n",
    "    \n",
    "    while True:\n",
    "      if threading.active_count() - activeThreads + 1 <= numberOfThreads:\n",
    "        break\n",
    "      time.sleep(1)\n",
    "\n",
    "\n",
    "\n",
    "# Waiting to finish all Threads\n",
    "while True:\n",
    "    if threading.active_count() == activeThreads:\n",
    "        break\n",
    "    else:\n",
    "        print (\"    Thread still running (left %d)...\"%(threading.active_count() - activeThreads))\n",
    "        time.sleep(1)\n",
    "  \n",
    "print(\" All Thread ends\")\n",
    "\n",
    "print(\"Program Finished\")\n",
    "print(\"Total Time %f sec\" % (round( time.time() - startTime,4)))"
   ]
  },
  {
   "cell_type": "code",
   "execution_count": null,
   "metadata": {},
   "outputs": [],
   "source": []
  }
 ],
 "metadata": {
  "kernelspec": {
   "display_name": "Python 3",
   "language": "python",
   "name": "python3"
  },
  "language_info": {
   "codemirror_mode": {
    "name": "ipython",
    "version": 3
   },
   "file_extension": ".py",
   "mimetype": "text/x-python",
   "name": "python",
   "nbconvert_exporter": "python",
   "pygments_lexer": "ipython3",
   "version": "3.10.6"
  }
 },
 "nbformat": 4,
 "nbformat_minor": 2
}
