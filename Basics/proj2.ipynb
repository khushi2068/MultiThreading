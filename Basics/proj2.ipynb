{
 "cells": [
  {
   "cell_type": "markdown",
   "metadata": {},
   "source": [
    "## PROJECT-2 -> Convert multiple files to uppercase"
   ]
  },
  {
   "cell_type": "code",
   "execution_count": 1,
   "metadata": {},
   "outputs": [
    {
     "name": "stdout",
     "output_type": "stream",
     "text": [
      "e:\\Multi-Threading\n"
     ]
    }
   ],
   "source": [
    "import os\n",
    "print(os.getcwd())"
   ]
  },
  {
   "cell_type": "code",
   "execution_count": 2,
   "metadata": {},
   "outputs": [],
   "source": [
    "# Paramaneter Setting\n",
    "\n",
    "import random as r, string as s, shutil, os, time\n",
    "\n",
    "inputDirName = 'booksDirectory'\n",
    "outputDirName = 'outputDirectory'\n",
    "\n",
    "try:\n",
    "    # Delete input directory and then create it\n",
    "    shutil.rmtree(\"./%s/\"%(outputDirName))\n",
    "    os.mkdir(outputDirName)\n",
    "except:\n",
    "    # Create the input directory\n",
    "    os.mkdir(outputDirName)\n"
   ]
  },
  {
   "cell_type": "code",
   "execution_count": 3,
   "metadata": {},
   "outputs": [],
   "source": [
    "# Function to convert the file to upper case\n",
    "\n",
    "def task(fileName):\n",
    "    inFileName =\"./%s/%s\"%(inputDirName,fileName)\n",
    "    outFileName =\"./%s/%s\"%(outputDirName,fileName)\n",
    "    \n",
    "    inFile = open(inFileName)\n",
    "    outFile = open(outFileName,\"w\")\n",
    "    \n",
    "    for line in inFile:\n",
    "      outFile.write(line.upper())\n",
    "    inFile.close()\n",
    "    outFile.close()\n",
    "    return None\n"
   ]
  },
  {
   "cell_type": "code",
   "execution_count": 5,
   "metadata": {},
   "outputs": [
    {
     "name": "stdout",
     "output_type": "stream",
     "text": [
      "Program Started....\n",
      "Creating file book1.txt\n",
      "\n",
      "Total Time 0.044500 sec\n",
      "Program Finished\n"
     ]
    }
   ],
   "source": [
    "# Main Program\n",
    "import time\n",
    "\n",
    "startTime = time.time()\n",
    "print(\"Program Started....\")\n",
    "\n",
    "for i in range(5):\n",
    "    fileName = \"book%d.txt\"%(i+1)\n",
    "    task(fileName)\n",
    "    if i%5 == 0:\n",
    "      print (\"Creating file %s\"%(fileName))\n",
    "\t\n",
    "print(\"\\nTotal Time %f sec\"%(round(time.time() - startTime,4)))\n",
    "print(\"Program Finished\")"
   ]
  },
  {
   "cell_type": "code",
   "execution_count": 6,
   "metadata": {},
   "outputs": [
    {
     "name": "stderr",
     "output_type": "stream",
     "text": [
      "C:\\Users\\HP\\AppData\\Local\\Temp\\ipykernel_15800\\405276907.py:8: DeprecationWarning: activeCount() is deprecated, use active_count() instead\n",
      "  activeThreads = threading.activeCount()\n",
      "C:\\Users\\HP\\AppData\\Local\\Temp\\ipykernel_15800\\405276907.py:22: DeprecationWarning: activeCount() is deprecated, use active_count() instead\n",
      "  if threading.activeCount() - activeThreads + 1 <= numberOfThreads:\n",
      "C:\\Users\\HP\\AppData\\Local\\Temp\\ipykernel_15800\\405276907.py:30: DeprecationWarning: activeCount() is deprecated, use active_count() instead\n",
      "  if threading.activeCount() == activeThreads:\n",
      "C:\\Users\\HP\\AppData\\Local\\Temp\\ipykernel_15800\\405276907.py:33: DeprecationWarning: activeCount() is deprecated, use active_count() instead\n",
      "  print (\"    Thread still running (left %d)...\"%(threading.activeCount() - activeThreads))\n"
     ]
    },
    {
     "name": "stdout",
     "output_type": "stream",
     "text": [
      "Program Started....\n",
      "Creating file book1.txt\n",
      "Creating file book2.txt\n",
      "Creating file book3.txt\n",
      "Creating file book4.txt\n",
      "Creating file book5.txt\n",
      "    Thread still running (left 2)...\n",
      " All Thread ends\n",
      "Program Finished\n",
      "Total Time 1.009500 sec\n"
     ]
    }
   ],
   "source": [
    "# Main Program\n",
    "import threading\n",
    "\n",
    "startTime = time.time()\n",
    "\n",
    "numberOfThreads = 5\n",
    "\n",
    "activeThreads = threading.active_count()\n",
    "\n",
    "# Main Program - Run Multiple Threads\n",
    "print(\"Program Started....\")\n",
    "\n",
    "for i in range(5):\n",
    "    fileName = \"book%d.txt\"%(i+1)\n",
    "    cmd = fileName\n",
    "    t = threading.Thread(target=task , args=(cmd,))\n",
    "    t.start()\n",
    "\n",
    "    print (\"Creating file %s\"%(fileName))\n",
    "    \n",
    "    while True:\n",
    "      if threading.active_count() - activeThreads + 1 <= numberOfThreads:\n",
    "        break\n",
    "      time.sleep(1)\n",
    "\n",
    "\n",
    "\n",
    "# Waiting to finish all Threads\n",
    "while True:\n",
    "    if threading.active_count() == activeThreads:\n",
    "        break\n",
    "    else:\n",
    "        print (\"    Thread still running (left %d)...\"%(threading.active_count() - activeThreads))\n",
    "        time.sleep(1)\n",
    "  \n",
    "print(\" All Thread ends\")\n",
    "\n",
    "print(\"Program Finished\")\n",
    "print(\"Total Time %f sec\" % (round( time.time() - startTime,4)))"
   ]
  }
 ],
 "metadata": {
  "kernelspec": {
   "display_name": "Python 3",
   "language": "python",
   "name": "python3"
  },
  "language_info": {
   "codemirror_mode": {
    "name": "ipython",
    "version": 3
   },
   "file_extension": ".py",
   "mimetype": "text/x-python",
   "name": "python",
   "nbconvert_exporter": "python",
   "pygments_lexer": "ipython3",
   "version": "3.10.6"
  }
 },
 "nbformat": 4,
 "nbformat_minor": 2
}
