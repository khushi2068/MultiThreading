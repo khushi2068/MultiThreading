{
 "cells": [
  {
   "cell_type": "markdown",
   "metadata": {},
   "source": [
    "### Multiply 100 random matrices of size 1k cross 1k with a constant matrix of size 1k cross 1k and generate the result table, graph and CPU usages."
   ]
  },
  {
   "cell_type": "code",
   "execution_count": 3,
   "metadata": {},
   "outputs": [
    {
     "name": "stdout",
     "output_type": "stream",
     "text": [
      "Num of cores:  8\n"
     ]
    },
    {
     "name": "stderr",
     "output_type": "stream",
     "text": [
      "Exception in thread Thread-81 (perform_matrix_multiplications):\n",
      "Traceback (most recent call last):\n",
      "  File \"c:\\Program Files\\Python310\\lib\\threading.py\", line 1016, in _bootstrap_inner\n",
      "    self.run()\n",
      "  File \"c:\\Program Files\\Python310\\lib\\threading.py\", line 953, in run\n",
      "    self._target(*self._args, **self._kwargs)\n",
      "  File \"C:\\Users\\HP\\AppData\\Local\\Temp\\ipykernel_26264\\645250691.py\", line 23, in perform_matrix_multiplications\n",
      "  File \"mtrand.pyx\", line 1202, in numpy.random.mtrand.RandomState.rand\n",
      "  File \"mtrand.pyx\", line 436, in numpy.random.mtrand.RandomState.random_sample\n",
      "  File \"_common.pyx\", line 307, in numpy.random._common.double_fill\n",
      "numpy.core._exceptions._ArrayMemoryError: Unable to allocate 122. MiB for an array with shape (4000, 4000) and data type float64\n"
     ]
    },
    {
     "name": "stdout",
     "output_type": "stream",
     "text": [
      "Number of results: 40\n",
      "Total time taken with 1 threads: 65.9969 seconds\n"
     ]
    }
   ],
   "source": [
    "import multiprocessing\n",
    "import threading\n",
    "import random as r\n",
    "import numpy as np\n",
    "import time\n",
    "import matplotlib.pyplot as plt\n",
    "import seaborn as sns\n",
    "import warnings\n",
    "warnings.filterwarnings(\"ignore\")\n",
    "\n",
    "#Number of Cores: 8 \n",
    "numberOfCores = multiprocessing.cpu_count()\n",
    "print (\"Num of cores: \", numberOfCores)\n",
    "\n",
    "#function for multiplying two matrices\n",
    "def matrix_multiply(mat1, mat2):\n",
    "    return np.dot(mat1, mat2)\n",
    "\n",
    "# Function to perform matrix multiplications within a thread\n",
    "def perform_matrix_multiplications(num_matrices, matrix_size, constant_matrix, results, results_lock):\n",
    "    for _ in range(num_matrices):\n",
    "        # Generate a random matrix\n",
    "        random_matrix = np.random.rand(*matrix_size)\n",
    "        \n",
    "        # Perform matrix multiplication\n",
    "        result = matrix_multiply(random_matrix, constant_matrix)\n",
    "        \n",
    "        # Append result to the shared results list using a lock\n",
    "        with results_lock:\n",
    "            results.append(result)\n",
    "\n",
    "def main(num_threads):\n",
    "    # Define matrix dimensions\n",
    "    matrix_size = (4000, 4000)\n",
    "    num_matrices = 100\n",
    "\n",
    "    # Create random matrices and constant matrix\n",
    "    constant_matrix = np.random.rand(*matrix_size)\n",
    "\n",
    "    # List to hold results\n",
    "    results = []\n",
    "    results_lock = threading.Lock()  # Lock to safely append results\n",
    "\n",
    "    # List to hold threads\n",
    "    threads = []\n",
    "\n",
    "    # Calculate number of matrices each thread will handle\n",
    "    matrices_per_thread = num_matrices // num_threads\n",
    "    remaining_matrices = num_matrices % num_threads\n",
    "\n",
    "    # Start time measurement\n",
    "    start_time = time.time()\n",
    "\n",
    "    # Perform matrix multiplications with specified number of threads\n",
    "    for _ in range(num_threads):\n",
    "        # Determine number of matrices this thread will handle\n",
    "        if remaining_matrices > 0:\n",
    "            num_matrices_this_thread = matrices_per_thread + 1\n",
    "            remaining_matrices -= 1\n",
    "        else:\n",
    "            num_matrices_this_thread = matrices_per_thread\n",
    "\n",
    "        # Create and start a new thread\n",
    "        thread = threading.Thread(\n",
    "            target=perform_matrix_multiplications,\n",
    "            args=(num_matrices_this_thread, matrix_size, constant_matrix, results, results_lock),\n",
    "        )\n",
    "        threads.append(thread)\n",
    "        thread.start()\n",
    "\n",
    "    # Wait for all threads to complete\n",
    "    for thread in threads:\n",
    "        thread.join()\n",
    "\n",
    "    # End time measurement\n",
    "    end_time = time.time()\n",
    "\n",
    "    # Calculate total time taken\n",
    "    total_time = end_time - start_time\n",
    "\n",
    "    print(f\"Number of results: {len(results)}\")\n",
    "    print(f\"Total time taken with {num_threads} threads: {total_time:.4f} seconds\")\n",
    "    return total_time\n",
    "\n",
    "num_threads=[1,2,3,4,5,6]\n",
    "tt=[]\n",
    "for i in range(0,len(num_threads)):\n",
    "    tt.append(main(num_threads[i]))\n",
    "\n",
    "sns.lineplot(x=num_threads, y=tt, marker='o')\n",
    "plt.title('Execution Time')\n",
    "plt.xlabel('Number of Threads')\n",
    "plt.ylabel('Time Taken')\n",
    "plt.show()"
   ]
  },
  {
   "cell_type": "code",
   "execution_count": null,
   "metadata": {},
   "outputs": [],
   "source": []
  }
 ],
 "metadata": {
  "kernelspec": {
   "display_name": "Python 3",
   "language": "python",
   "name": "python3"
  },
  "language_info": {
   "codemirror_mode": {
    "name": "ipython",
    "version": 3
   },
   "file_extension": ".py",
   "mimetype": "text/x-python",
   "name": "python",
   "nbconvert_exporter": "python",
   "pygments_lexer": "ipython3",
   "version": "3.10.6"
  }
 },
 "nbformat": 4,
 "nbformat_minor": 2
}
